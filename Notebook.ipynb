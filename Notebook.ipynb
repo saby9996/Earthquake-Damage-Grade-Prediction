{
 "cells": [
  {
   "cell_type": "code",
   "execution_count": 1,
   "metadata": {},
   "outputs": [
    {
     "name": "stderr",
     "output_type": "stream",
     "text": [
      "Using TensorFlow backend.\n"
     ]
    }
   ],
   "source": [
    "import numpy as np\n",
    "import pandas as pd\n",
    "import scipy\n",
    "import sklearn\n",
    "import os\n",
    "import re\n",
    "from sklearn import model_selection, svm\n",
    "from sklearn.cluster import KMeans\n",
    "from sklearn.ensemble import RandomForestClassifier, RandomForestRegressor\n",
    "from sklearn import metrics\n",
    "from sklearn.metrics import classification_report, average_precision_score, mean_squared_error\n",
    "from sklearn.metrics import confusion_matrix\n",
    "from sklearn.metrics import precision_recall_curve\n",
    "from sklearn.metrics import accuracy_score\n",
    "#from sklearn.cross_validation import cross_val_score\n",
    "from sklearn.linear_model import LogisticRegression\n",
    "from sklearn.linear_model import LinearRegression\n",
    "from sklearn.multiclass import OneVsRestClassifier\n",
    "from sklearn.model_selection import train_test_split\n",
    "from sklearn.neural_network import MLPClassifier\n",
    "from sklearn.preprocessing import label_binarize\n",
    "from sklearn.tree import DecisionTreeClassifier\n",
    "from sklearn.neighbors import KNeighborsClassifier\n",
    "from sklearn.discriminant_analysis import LinearDiscriminantAnalysis\n",
    "from sklearn.naive_bayes import GaussianNB\n",
    "from sklearn.naive_bayes import MultinomialNB\n",
    "from sklearn.svm import SVC\n",
    "from sklearn.metrics import r2_score\n",
    "from sklearn.ensemble import AdaBoostRegressor\n",
    "from sklearn.ensemble import GradientBoostingClassifier\n",
    "from sklearn.ensemble import VotingClassifier\n",
    "from sklearn.neural_network import MLPRegressor\n",
    "from sklearn.model_selection import StratifiedKFold\n",
    "from sklearn.model_selection import train_test_split\n",
    "from sklearn import linear_model\n",
    "from sklearn.metrics import mean_absolute_error\n",
    "from sklearn.metrics import roc_curve, roc_auc_score\n",
    "\n",
    "import keras\n",
    "from keras.utils import to_categorical\n",
    "from keras.models import Sequential\n",
    "from keras.layers import Dense\n",
    "from keras.layers import Dropout\n",
    "from keras.utils import to_categorical\n",
    "from keras.layers import Conv2D\n",
    "from keras.layers import Conv1D\n",
    "from keras.layers import MaxPooling2D\n",
    "from keras.layers import Flatten\n",
    "from keras.layers import LSTM\n",
    "from keras.layers import MaxPooling1D\n",
    "from keras.layers import Activation\n",
    "from keras import optimizers\n",
    "from keras.layers import Conv1D\n",
    "from keras.optimizers import SGD #Stochastic Gradient Descent Optimizer\n",
    "from keras.preprocessing.text import Tokenizer\n",
    "from keras.preprocessing.sequence import pad_sequences\n",
    "from keras.layers.embeddings import Embedding\n",
    "\n",
    "from keras.applications import inception_v3\n",
    "\n",
    "import livelossplot\n",
    "from livelossplot import PlotLossesKeras\n",
    "plot_losses = livelossplot.PlotLossesKeras()\n",
    "\n",
    "pd.set_option('display.max_rows', 500)\n",
    "pd.set_option('display.max_columns', 500)"
   ]
  },
  {
   "cell_type": "markdown",
   "metadata": {},
   "source": [
    "## Data Set Injestion"
   ]
  },
  {
   "cell_type": "code",
   "execution_count": 2,
   "metadata": {},
   "outputs": [],
   "source": [
    "path_to_dir=\"E:/HRC Code Base/Desktop Codes/hackerearth/\""
   ]
  },
  {
   "cell_type": "raw",
   "metadata": {},
   "source": [
    "#### Details of the files are as follows: \n",
    "\n",
    "#### train.csv : \n",
    "\n",
    "|Varaible| Descrition|\n",
    "|--------|-----------|\n",
    "|area_assesed|Indicates the nature of the damage assessment in terms of the areas of the building that were assessed|\n",
    "|building_id|A unique ID that identifies every individual building|\n",
    "|damage_grade|Damage grade assigned to the building after assessment (Target Variable)|\n",
    "|district_id|District where the building is located|\n",
    "|has_geotechnical_risk|Indicates if building has geotechnical risks|\n",
    "|has_geotechnical_risk_fault_crack|Indicates if building has geotechnical risks related to fault cracking|\n",
    "|has_geotechnical_risk_flood|Indicates if building has geotechnical risks related to flood|\n",
    "|has_geotechnical_risk_land_settlement|Indicates if building has geotechnical risks related to land settlement|\n",
    "|has_geotechnical_risk_landslide|Indicates if building has geotechnical risks related to landslide|\n",
    "|has_geotechnical_risk_liquefaction|Indicates if building has geotechnical risks related to liquefaction|\n",
    "|has_geotechnical_risk_other|Indicates if building has any other  geotechnical risks|\n",
    "|has_geotechnical_risk_rock_fall|Indicates if building has geotechnical risks related to rock fall|\n",
    "|has_repair_started|Indicates if the repair work had started|\n",
    "|vdcmun_id|Municipality where the building is located|\n",
    "\n",
    "#### Building_Ownership_Use.csv: \n",
    "\n",
    "|Varaible|Description|\n",
    "|--------|-----------|\n",
    "|building_id|A unique ID that identifies every individual building|\n",
    "|district_id|District where the building is located|\n",
    "|vdcmun_id|Municipality where the building is located|\n",
    "|ward_id|Ward Number in which the building is located|\n",
    "|legal_ownership_status|Legal ownership status of the land in which the building was built|\n",
    "|count_families|Number of families in the building|\n",
    "|has_secondary_use|indicates if the building is used for any secondary purpose|\n",
    "|has_secondary_use_agriculture|indicates if the building is secondarily used for agricultural purpose|\n",
    "|has_secondary_use_hotel|indicates if the building is secondarily used as hotel|\n",
    "|has_secondary_use_rental|indicates if the building is secondarily used for rental purpose|\n",
    "|has_secondary_use_institution|indicates if the building is secondarily used for institutional purpose|\n",
    "|has_secondary_use_school|indicates if the building is secondarily used as school|\n",
    "|has_secondary_use_industry|indicates if the building is secondarily used for industrial purpose|\n",
    "|has_secondary_use_health_post|indicates if the building is secondarily used as health post|\n",
    "|has_secondary_use_gov_office|indicates if the building is secondarily used as government office|\n",
    "|has_secondary_use_use_police|indicates if the building is secondarily used as police station|\n",
    "|has_secondary_use_other|indicates if the building is secondarily used for other purpose|\n",
    "\n",
    "\n",
    "#### Building_Structure.csv\n",
    "\n",
    "|Variable|Description|\n",
    "|--------|-----------|\n",
    "|building_id|A unique ID that identifies every individual building|\n",
    "|district_id|District where the building is located|\n",
    "|vdcmun_id|Municipality where the building is located|\n",
    "|ward_id|Ward Number in which the building is located|\n",
    "|count_floors_pre_eq|Number of floors that the building had before the earthquake|\n",
    "|count_floors_post_eq|Number of floors that the building had after the earthquake|\n",
    "|age_building|Age of the building (in years)|\n",
    "|plinth_area_sq_ft|Plinth area of the building (in square feet)|\n",
    "|height_ft_pre_eq|Height of the building before the earthquake (in feet)|\n",
    "|height_ft_post_eq|Height of the building after the earthquake (in feet)|\n",
    "|land_surface_condition|Surface condition of the land in which the building is built\t|\n",
    "|foundation_type|Type of foundation used in the building|\n",
    "|roof_type|Type of roof used in the building|\n",
    "|ground_floor_type|Ground floor type|\n",
    "|other_floor_type|Type of construction used in other floors (except ground floor and roof)|\n",
    "|position|Position of the building|\n",
    "|plan_configuration|Building plan configuration|\n",
    "|has_superstructure_adobe_mud|indicates if the superstructure of the building is made of Adobe/Mud|\n",
    "|has_superstructure_mud_mortar_stone|indicates if the superstructure of the building is made of Mud Mortar - Stone|\n",
    "|has_superstructure_stone_flag| indicates if the superstructure of the building is made of Stone|\n",
    "|has_superstructure_mud_mortar_brick|indicates if the superstructure of the building is made of Cement Mortar - Stone|\n",
    "|has_superstructure_cement_mortar_brick|indicates if the superstructure of the building is made of Mud Mortar - Brick|\n",
    "|has_superstructure_timber|indicates if the superstructure of the building is made of Timber|\n",
    "|has_superstructure_bamboo|indicates if the superstructure of the building is made of Bamboo|\n",
    "|has_superstructure_rc_non_engineered|indicates if the superstructure of the building is made of RC (Non Engineered)|\n",
    "|has_superstructure_rc_engineered|indicates if the superstructure of the building is made of RC (Engineered)|\n",
    "|has_superstructure_other| indicates if the superstructure of the building is made of any other material|\n",
    "|condition_post_eq|Actual contition of the building after the earthquake|\n"
   ]
  },
  {
   "cell_type": "code",
   "execution_count": 3,
   "metadata": {},
   "outputs": [],
   "source": [
    "train=pd.read_csv(path_to_dir+'train.csv',sep=',',encoding=\"utf-8\",error_bad_lines=False,low_memory = False)\n",
    "building_ownership=pd.read_csv(path_to_dir+'Building_Ownership_Use.csv',sep=',',encoding=\"utf-8\",error_bad_lines=False,low_memory = False)\n",
    "building_structure=pd.read_csv(path_to_dir+'Building_Structure.csv',sep=',',encoding=\"utf-8\",error_bad_lines=False,low_memory = False)"
   ]
  },
  {
   "cell_type": "code",
   "execution_count": 4,
   "metadata": {},
   "outputs": [],
   "source": [
    "#Merging Building Details\n",
    "building_det=pd.merge(building_ownership,building_structure,on=['building_id','vdcmun_id','district_id','ward_id'],how='inner')"
   ]
  },
  {
   "cell_type": "code",
   "execution_count": 5,
   "metadata": {},
   "outputs": [],
   "source": [
    "#Merging Building Details With Train Set\n",
    "mega_data=pd.merge(train,building_det,on=['building_id','vdcmun_id','district_id'],how='inner')"
   ]
  },
  {
   "cell_type": "code",
   "execution_count": 6,
   "metadata": {},
   "outputs": [
    {
     "data": {
      "text/html": [
       "<div>\n",
       "<style scoped>\n",
       "    .dataframe tbody tr th:only-of-type {\n",
       "        vertical-align: middle;\n",
       "    }\n",
       "\n",
       "    .dataframe tbody tr th {\n",
       "        vertical-align: top;\n",
       "    }\n",
       "\n",
       "    .dataframe thead th {\n",
       "        text-align: right;\n",
       "    }\n",
       "</style>\n",
       "<table border=\"1\" class=\"dataframe\">\n",
       "  <thead>\n",
       "    <tr style=\"text-align: right;\">\n",
       "      <th></th>\n",
       "      <th>area_assesed</th>\n",
       "      <th>building_id</th>\n",
       "      <th>damage_grade</th>\n",
       "      <th>district_id</th>\n",
       "      <th>has_geotechnical_risk</th>\n",
       "      <th>has_geotechnical_risk_fault_crack</th>\n",
       "      <th>has_geotechnical_risk_flood</th>\n",
       "      <th>has_geotechnical_risk_land_settlement</th>\n",
       "      <th>has_geotechnical_risk_landslide</th>\n",
       "      <th>has_geotechnical_risk_liquefaction</th>\n",
       "      <th>has_geotechnical_risk_other</th>\n",
       "      <th>has_geotechnical_risk_rock_fall</th>\n",
       "      <th>has_repair_started</th>\n",
       "      <th>vdcmun_id</th>\n",
       "      <th>ward_id</th>\n",
       "      <th>legal_ownership_status</th>\n",
       "      <th>count_families</th>\n",
       "      <th>has_secondary_use</th>\n",
       "      <th>has_secondary_use_agriculture</th>\n",
       "      <th>has_secondary_use_hotel</th>\n",
       "      <th>has_secondary_use_rental</th>\n",
       "      <th>has_secondary_use_institution</th>\n",
       "      <th>has_secondary_use_school</th>\n",
       "      <th>has_secondary_use_industry</th>\n",
       "      <th>has_secondary_use_health_post</th>\n",
       "      <th>has_secondary_use_gov_office</th>\n",
       "      <th>has_secondary_use_use_police</th>\n",
       "      <th>has_secondary_use_other</th>\n",
       "      <th>count_floors_pre_eq</th>\n",
       "      <th>count_floors_post_eq</th>\n",
       "      <th>age_building</th>\n",
       "      <th>plinth_area_sq_ft</th>\n",
       "      <th>height_ft_pre_eq</th>\n",
       "      <th>height_ft_post_eq</th>\n",
       "      <th>land_surface_condition</th>\n",
       "      <th>foundation_type</th>\n",
       "      <th>roof_type</th>\n",
       "      <th>ground_floor_type</th>\n",
       "      <th>other_floor_type</th>\n",
       "      <th>position</th>\n",
       "      <th>plan_configuration</th>\n",
       "      <th>has_superstructure_adobe_mud</th>\n",
       "      <th>has_superstructure_mud_mortar_stone</th>\n",
       "      <th>has_superstructure_stone_flag</th>\n",
       "      <th>has_superstructure_cement_mortar_stone</th>\n",
       "      <th>has_superstructure_mud_mortar_brick</th>\n",
       "      <th>has_superstructure_cement_mortar_brick</th>\n",
       "      <th>has_superstructure_timber</th>\n",
       "      <th>has_superstructure_bamboo</th>\n",
       "      <th>has_superstructure_rc_non_engineered</th>\n",
       "      <th>has_superstructure_rc_engineered</th>\n",
       "      <th>has_superstructure_other</th>\n",
       "      <th>condition_post_eq</th>\n",
       "    </tr>\n",
       "  </thead>\n",
       "  <tbody>\n",
       "    <tr>\n",
       "      <th>0</th>\n",
       "      <td>Both</td>\n",
       "      <td>24385bfd2a2</td>\n",
       "      <td>Grade 4</td>\n",
       "      <td>24</td>\n",
       "      <td>0.0</td>\n",
       "      <td>0</td>\n",
       "      <td>0</td>\n",
       "      <td>0</td>\n",
       "      <td>0</td>\n",
       "      <td>0</td>\n",
       "      <td>0</td>\n",
       "      <td>0</td>\n",
       "      <td>0.0</td>\n",
       "      <td>2489</td>\n",
       "      <td>248903</td>\n",
       "      <td>Private</td>\n",
       "      <td>2.0</td>\n",
       "      <td>0.0</td>\n",
       "      <td>0</td>\n",
       "      <td>0</td>\n",
       "      <td>0</td>\n",
       "      <td>0</td>\n",
       "      <td>0</td>\n",
       "      <td>0</td>\n",
       "      <td>0</td>\n",
       "      <td>0</td>\n",
       "      <td>0</td>\n",
       "      <td>0</td>\n",
       "      <td>3</td>\n",
       "      <td>3</td>\n",
       "      <td>21</td>\n",
       "      <td>385</td>\n",
       "      <td>20</td>\n",
       "      <td>20</td>\n",
       "      <td>Flat</td>\n",
       "      <td>Mud mortar-Stone/Brick</td>\n",
       "      <td>Bamboo/Timber-Light roof</td>\n",
       "      <td>Mud</td>\n",
       "      <td>TImber/Bamboo-Mud</td>\n",
       "      <td>Not attached</td>\n",
       "      <td>Rectangular</td>\n",
       "      <td>1</td>\n",
       "      <td>0</td>\n",
       "      <td>0</td>\n",
       "      <td>0</td>\n",
       "      <td>0</td>\n",
       "      <td>0</td>\n",
       "      <td>0</td>\n",
       "      <td>0</td>\n",
       "      <td>0</td>\n",
       "      <td>0</td>\n",
       "      <td>0</td>\n",
       "      <td>Damaged-Not used</td>\n",
       "    </tr>\n",
       "    <tr>\n",
       "      <th>1</th>\n",
       "      <td>Both</td>\n",
       "      <td>405d1bbebbf</td>\n",
       "      <td>Grade 2</td>\n",
       "      <td>44</td>\n",
       "      <td>0.0</td>\n",
       "      <td>0</td>\n",
       "      <td>0</td>\n",
       "      <td>0</td>\n",
       "      <td>0</td>\n",
       "      <td>0</td>\n",
       "      <td>0</td>\n",
       "      <td>0</td>\n",
       "      <td>1.0</td>\n",
       "      <td>4423</td>\n",
       "      <td>442304</td>\n",
       "      <td>Private</td>\n",
       "      <td>1.0</td>\n",
       "      <td>1.0</td>\n",
       "      <td>0</td>\n",
       "      <td>1</td>\n",
       "      <td>0</td>\n",
       "      <td>0</td>\n",
       "      <td>0</td>\n",
       "      <td>0</td>\n",
       "      <td>0</td>\n",
       "      <td>0</td>\n",
       "      <td>0</td>\n",
       "      <td>0</td>\n",
       "      <td>3</td>\n",
       "      <td>3</td>\n",
       "      <td>33</td>\n",
       "      <td>602</td>\n",
       "      <td>24</td>\n",
       "      <td>24</td>\n",
       "      <td>Flat</td>\n",
       "      <td>Mud mortar-Stone/Brick</td>\n",
       "      <td>Bamboo/Timber-Light roof</td>\n",
       "      <td>Brick/Stone</td>\n",
       "      <td>TImber/Bamboo-Mud</td>\n",
       "      <td>Attached-1 side</td>\n",
       "      <td>Rectangular</td>\n",
       "      <td>0</td>\n",
       "      <td>1</td>\n",
       "      <td>0</td>\n",
       "      <td>0</td>\n",
       "      <td>1</td>\n",
       "      <td>0</td>\n",
       "      <td>0</td>\n",
       "      <td>0</td>\n",
       "      <td>0</td>\n",
       "      <td>0</td>\n",
       "      <td>0</td>\n",
       "      <td>Damaged-Repaired and used</td>\n",
       "    </tr>\n",
       "    <tr>\n",
       "      <th>2</th>\n",
       "      <td>Both</td>\n",
       "      <td>351d9bc71f6</td>\n",
       "      <td>Grade 1</td>\n",
       "      <td>36</td>\n",
       "      <td>0.0</td>\n",
       "      <td>0</td>\n",
       "      <td>0</td>\n",
       "      <td>0</td>\n",
       "      <td>0</td>\n",
       "      <td>0</td>\n",
       "      <td>0</td>\n",
       "      <td>0</td>\n",
       "      <td>0.0</td>\n",
       "      <td>3650</td>\n",
       "      <td>365008</td>\n",
       "      <td>Private</td>\n",
       "      <td>1.0</td>\n",
       "      <td>0.0</td>\n",
       "      <td>0</td>\n",
       "      <td>0</td>\n",
       "      <td>0</td>\n",
       "      <td>0</td>\n",
       "      <td>0</td>\n",
       "      <td>0</td>\n",
       "      <td>0</td>\n",
       "      <td>0</td>\n",
       "      <td>0</td>\n",
       "      <td>0</td>\n",
       "      <td>3</td>\n",
       "      <td>3</td>\n",
       "      <td>2</td>\n",
       "      <td>700</td>\n",
       "      <td>21</td>\n",
       "      <td>21</td>\n",
       "      <td>Steep slope</td>\n",
       "      <td>RC</td>\n",
       "      <td>RCC/RB/RBC</td>\n",
       "      <td>RC</td>\n",
       "      <td>RCC/RB/RBC</td>\n",
       "      <td>Attached-1 side</td>\n",
       "      <td>Rectangular</td>\n",
       "      <td>0</td>\n",
       "      <td>0</td>\n",
       "      <td>0</td>\n",
       "      <td>0</td>\n",
       "      <td>0</td>\n",
       "      <td>0</td>\n",
       "      <td>0</td>\n",
       "      <td>0</td>\n",
       "      <td>0</td>\n",
       "      <td>1</td>\n",
       "      <td>0</td>\n",
       "      <td>Not damaged</td>\n",
       "    </tr>\n",
       "    <tr>\n",
       "      <th>3</th>\n",
       "      <td>Building removed</td>\n",
       "      <td>2be3a971166</td>\n",
       "      <td>Grade 5</td>\n",
       "      <td>30</td>\n",
       "      <td>0.0</td>\n",
       "      <td>0</td>\n",
       "      <td>0</td>\n",
       "      <td>0</td>\n",
       "      <td>0</td>\n",
       "      <td>0</td>\n",
       "      <td>0</td>\n",
       "      <td>0</td>\n",
       "      <td>0.0</td>\n",
       "      <td>3016</td>\n",
       "      <td>301605</td>\n",
       "      <td>Private</td>\n",
       "      <td>1.0</td>\n",
       "      <td>0.0</td>\n",
       "      <td>0</td>\n",
       "      <td>0</td>\n",
       "      <td>0</td>\n",
       "      <td>0</td>\n",
       "      <td>0</td>\n",
       "      <td>0</td>\n",
       "      <td>0</td>\n",
       "      <td>0</td>\n",
       "      <td>0</td>\n",
       "      <td>0</td>\n",
       "      <td>3</td>\n",
       "      <td>0</td>\n",
       "      <td>3</td>\n",
       "      <td>315</td>\n",
       "      <td>20</td>\n",
       "      <td>0</td>\n",
       "      <td>Flat</td>\n",
       "      <td>Mud mortar-Stone/Brick</td>\n",
       "      <td>Bamboo/Timber-Light roof</td>\n",
       "      <td>Mud</td>\n",
       "      <td>Timber-Planck</td>\n",
       "      <td>Not attached</td>\n",
       "      <td>Rectangular</td>\n",
       "      <td>0</td>\n",
       "      <td>1</td>\n",
       "      <td>0</td>\n",
       "      <td>0</td>\n",
       "      <td>0</td>\n",
       "      <td>0</td>\n",
       "      <td>0</td>\n",
       "      <td>0</td>\n",
       "      <td>0</td>\n",
       "      <td>0</td>\n",
       "      <td>0</td>\n",
       "      <td>Damaged-Rubble clear</td>\n",
       "    </tr>\n",
       "    <tr>\n",
       "      <th>4</th>\n",
       "      <td>Both</td>\n",
       "      <td>34c7d073ea6</td>\n",
       "      <td>Grade 3</td>\n",
       "      <td>36</td>\n",
       "      <td>0.0</td>\n",
       "      <td>0</td>\n",
       "      <td>0</td>\n",
       "      <td>0</td>\n",
       "      <td>0</td>\n",
       "      <td>0</td>\n",
       "      <td>0</td>\n",
       "      <td>0</td>\n",
       "      <td>0.0</td>\n",
       "      <td>3627</td>\n",
       "      <td>362705</td>\n",
       "      <td>Private</td>\n",
       "      <td>1.0</td>\n",
       "      <td>0.0</td>\n",
       "      <td>0</td>\n",
       "      <td>0</td>\n",
       "      <td>0</td>\n",
       "      <td>0</td>\n",
       "      <td>0</td>\n",
       "      <td>0</td>\n",
       "      <td>0</td>\n",
       "      <td>0</td>\n",
       "      <td>0</td>\n",
       "      <td>0</td>\n",
       "      <td>2</td>\n",
       "      <td>2</td>\n",
       "      <td>22</td>\n",
       "      <td>285</td>\n",
       "      <td>18</td>\n",
       "      <td>18</td>\n",
       "      <td>Flat</td>\n",
       "      <td>Mud mortar-Stone/Brick</td>\n",
       "      <td>Bamboo/Timber-Heavy roof</td>\n",
       "      <td>Mud</td>\n",
       "      <td>TImber/Bamboo-Mud</td>\n",
       "      <td>Not attached</td>\n",
       "      <td>Rectangular</td>\n",
       "      <td>0</td>\n",
       "      <td>1</td>\n",
       "      <td>0</td>\n",
       "      <td>0</td>\n",
       "      <td>0</td>\n",
       "      <td>0</td>\n",
       "      <td>0</td>\n",
       "      <td>0</td>\n",
       "      <td>0</td>\n",
       "      <td>0</td>\n",
       "      <td>0</td>\n",
       "      <td>Damaged-Used in risk</td>\n",
       "    </tr>\n",
       "  </tbody>\n",
       "</table>\n",
       "</div>"
      ],
      "text/plain": [
       "       area_assesed  building_id damage_grade  district_id  \\\n",
       "0              Both  24385bfd2a2      Grade 4           24   \n",
       "1              Both  405d1bbebbf      Grade 2           44   \n",
       "2              Both  351d9bc71f6      Grade 1           36   \n",
       "3  Building removed  2be3a971166      Grade 5           30   \n",
       "4              Both  34c7d073ea6      Grade 3           36   \n",
       "\n",
       "   has_geotechnical_risk  has_geotechnical_risk_fault_crack  \\\n",
       "0                    0.0                                  0   \n",
       "1                    0.0                                  0   \n",
       "2                    0.0                                  0   \n",
       "3                    0.0                                  0   \n",
       "4                    0.0                                  0   \n",
       "\n",
       "   has_geotechnical_risk_flood  has_geotechnical_risk_land_settlement  \\\n",
       "0                            0                                      0   \n",
       "1                            0                                      0   \n",
       "2                            0                                      0   \n",
       "3                            0                                      0   \n",
       "4                            0                                      0   \n",
       "\n",
       "   has_geotechnical_risk_landslide  has_geotechnical_risk_liquefaction  \\\n",
       "0                                0                                   0   \n",
       "1                                0                                   0   \n",
       "2                                0                                   0   \n",
       "3                                0                                   0   \n",
       "4                                0                                   0   \n",
       "\n",
       "   has_geotechnical_risk_other  has_geotechnical_risk_rock_fall  \\\n",
       "0                            0                                0   \n",
       "1                            0                                0   \n",
       "2                            0                                0   \n",
       "3                            0                                0   \n",
       "4                            0                                0   \n",
       "\n",
       "   has_repair_started  vdcmun_id  ward_id legal_ownership_status  \\\n",
       "0                 0.0       2489   248903                Private   \n",
       "1                 1.0       4423   442304                Private   \n",
       "2                 0.0       3650   365008                Private   \n",
       "3                 0.0       3016   301605                Private   \n",
       "4                 0.0       3627   362705                Private   \n",
       "\n",
       "   count_families  has_secondary_use  has_secondary_use_agriculture  \\\n",
       "0             2.0                0.0                              0   \n",
       "1             1.0                1.0                              0   \n",
       "2             1.0                0.0                              0   \n",
       "3             1.0                0.0                              0   \n",
       "4             1.0                0.0                              0   \n",
       "\n",
       "   has_secondary_use_hotel  has_secondary_use_rental  \\\n",
       "0                        0                         0   \n",
       "1                        1                         0   \n",
       "2                        0                         0   \n",
       "3                        0                         0   \n",
       "4                        0                         0   \n",
       "\n",
       "   has_secondary_use_institution  has_secondary_use_school  \\\n",
       "0                              0                         0   \n",
       "1                              0                         0   \n",
       "2                              0                         0   \n",
       "3                              0                         0   \n",
       "4                              0                         0   \n",
       "\n",
       "   has_secondary_use_industry  has_secondary_use_health_post  \\\n",
       "0                           0                              0   \n",
       "1                           0                              0   \n",
       "2                           0                              0   \n",
       "3                           0                              0   \n",
       "4                           0                              0   \n",
       "\n",
       "   has_secondary_use_gov_office  has_secondary_use_use_police  \\\n",
       "0                             0                             0   \n",
       "1                             0                             0   \n",
       "2                             0                             0   \n",
       "3                             0                             0   \n",
       "4                             0                             0   \n",
       "\n",
       "   has_secondary_use_other  count_floors_pre_eq  count_floors_post_eq  \\\n",
       "0                        0                    3                     3   \n",
       "1                        0                    3                     3   \n",
       "2                        0                    3                     3   \n",
       "3                        0                    3                     0   \n",
       "4                        0                    2                     2   \n",
       "\n",
       "   age_building  plinth_area_sq_ft  height_ft_pre_eq  height_ft_post_eq  \\\n",
       "0            21                385                20                 20   \n",
       "1            33                602                24                 24   \n",
       "2             2                700                21                 21   \n",
       "3             3                315                20                  0   \n",
       "4            22                285                18                 18   \n",
       "\n",
       "  land_surface_condition         foundation_type                 roof_type  \\\n",
       "0                   Flat  Mud mortar-Stone/Brick  Bamboo/Timber-Light roof   \n",
       "1                   Flat  Mud mortar-Stone/Brick  Bamboo/Timber-Light roof   \n",
       "2            Steep slope                      RC                RCC/RB/RBC   \n",
       "3                   Flat  Mud mortar-Stone/Brick  Bamboo/Timber-Light roof   \n",
       "4                   Flat  Mud mortar-Stone/Brick  Bamboo/Timber-Heavy roof   \n",
       "\n",
       "  ground_floor_type   other_floor_type         position plan_configuration  \\\n",
       "0               Mud  TImber/Bamboo-Mud     Not attached        Rectangular   \n",
       "1       Brick/Stone  TImber/Bamboo-Mud  Attached-1 side        Rectangular   \n",
       "2                RC         RCC/RB/RBC  Attached-1 side        Rectangular   \n",
       "3               Mud      Timber-Planck     Not attached        Rectangular   \n",
       "4               Mud  TImber/Bamboo-Mud     Not attached        Rectangular   \n",
       "\n",
       "   has_superstructure_adobe_mud  has_superstructure_mud_mortar_stone  \\\n",
       "0                             1                                    0   \n",
       "1                             0                                    1   \n",
       "2                             0                                    0   \n",
       "3                             0                                    1   \n",
       "4                             0                                    1   \n",
       "\n",
       "   has_superstructure_stone_flag  has_superstructure_cement_mortar_stone  \\\n",
       "0                              0                                       0   \n",
       "1                              0                                       0   \n",
       "2                              0                                       0   \n",
       "3                              0                                       0   \n",
       "4                              0                                       0   \n",
       "\n",
       "   has_superstructure_mud_mortar_brick  \\\n",
       "0                                    0   \n",
       "1                                    1   \n",
       "2                                    0   \n",
       "3                                    0   \n",
       "4                                    0   \n",
       "\n",
       "   has_superstructure_cement_mortar_brick  has_superstructure_timber  \\\n",
       "0                                       0                          0   \n",
       "1                                       0                          0   \n",
       "2                                       0                          0   \n",
       "3                                       0                          0   \n",
       "4                                       0                          0   \n",
       "\n",
       "   has_superstructure_bamboo  has_superstructure_rc_non_engineered  \\\n",
       "0                          0                                     0   \n",
       "1                          0                                     0   \n",
       "2                          0                                     0   \n",
       "3                          0                                     0   \n",
       "4                          0                                     0   \n",
       "\n",
       "   has_superstructure_rc_engineered  has_superstructure_other  \\\n",
       "0                                 0                         0   \n",
       "1                                 0                         0   \n",
       "2                                 1                         0   \n",
       "3                                 0                         0   \n",
       "4                                 0                         0   \n",
       "\n",
       "           condition_post_eq  \n",
       "0           Damaged-Not used  \n",
       "1  Damaged-Repaired and used  \n",
       "2                Not damaged  \n",
       "3       Damaged-Rubble clear  \n",
       "4       Damaged-Used in risk  "
      ]
     },
     "execution_count": 6,
     "metadata": {},
     "output_type": "execute_result"
    }
   ],
   "source": [
    "mega_data.head()"
   ]
  },
  {
   "cell_type": "markdown",
   "metadata": {},
   "source": [
    "### PreProcessing"
   ]
  },
  {
   "cell_type": "code",
   "execution_count": 7,
   "metadata": {},
   "outputs": [
    {
     "data": {
      "text/plain": [
       "Index(['has_repair_started', 'count_families'], dtype='object')"
      ]
     },
     "execution_count": 7,
     "metadata": {},
     "output_type": "execute_result"
    }
   ],
   "source": [
    "#To check the Number of Families Having Null\n",
    "mega_data.columns[mega_data.isna().any()]"
   ]
  },
  {
   "cell_type": "code",
   "execution_count": 8,
   "metadata": {},
   "outputs": [],
   "source": [
    "#Imputation of Columns with Mean and Mode\n",
    "from sklearn.preprocessing import Imputer\n",
    "imput = Imputer(strategy='most_frequent')\n",
    "imput1 = Imputer(strategy='mean')\n",
    "mega_data['count_families'] = imput1.fit_transform(mega_data[['count_families']]).astype('int')\n",
    "mega_data['has_repair_started'] = imput.fit_transform(mega_data[['has_repair_started']]).astype('int')"
   ]
  },
  {
   "cell_type": "markdown",
   "metadata": {},
   "source": [
    "#### From the Features it can be inferred that the Grade of Damage can be predicted only one the basis of the risk factor of a particular building and also based on the specifications of the building.\n",
    "*Therefore Going With Following Variables*\n",
    "1. *A Risk Variable for Determining the Summation of Risk Factors*\n",
    "2. *An Average, Count and Ratio Feature Based on Municipal, District and Ward For Coorelating* [A different Method of String Concatenation Could be used, But Not in the Favour of That]\n",
    "2. *The Height and And No of Floors of a Building*"
   ]
  },
  {
   "cell_type": "code",
   "execution_count": 9,
   "metadata": {},
   "outputs": [],
   "source": [
    "mega_data['Risk_Factor']=mega_data['has_geotechnical_risk_other']+mega_data['has_geotechnical_risk_liquefaction']+ mega_data['has_geotechnical_risk_landslide'] + mega_data['has_geotechnical_risk_flood'] + mega_data['has_geotechnical_risk_rock_fall'] + mega_data['has_geotechnical_risk_land_settlement'] + mega_data['has_geotechnical_risk_fault_crack']"
   ]
  },
  {
   "cell_type": "code",
   "execution_count": 10,
   "metadata": {},
   "outputs": [
    {
     "data": {
      "text/plain": [
       "count    631761.000000\n",
       "mean          0.194434\n",
       "std           0.589000\n",
       "min           0.000000\n",
       "25%           0.000000\n",
       "50%           0.000000\n",
       "75%           0.000000\n",
       "max           6.000000\n",
       "Name: Risk_Factor, dtype: float64"
      ]
     },
     "execution_count": 10,
     "metadata": {},
     "output_type": "execute_result"
    }
   ],
   "source": [
    "mega_data['Risk_Factor'].describe()"
   ]
  },
  {
   "cell_type": "markdown",
   "metadata": {},
   "source": [
    "### District Level"
   ]
  },
  {
   "cell_type": "code",
   "execution_count": 11,
   "metadata": {},
   "outputs": [],
   "source": [
    "# Sum Feature and Average Feature\n",
    "district_list=mega_data.district_id.unique().tolist()\n",
    "\n",
    "mega_data['Risk_Factor_District_Sum']=0\n",
    "mega_data['Risk_Factor_District_Average']=0\n",
    "\n",
    "for dist in district_list:\n",
    "    temp_new = pd.DataFrame()\n",
    "    temp_new = mega_data.loc[mega_data.district_id == dist, :]\n",
    "    temp_new = temp_new.reset_index()\n",
    "    temp_new.drop('index', axis=1, inplace=True)\n",
    "        \n",
    "    sum_feat=temp_new['Risk_Factor'].sum()\n",
    "    avg_feat=sum_feat/len(temp_new)\n",
    "   \n",
    "    mega_data['Risk_Factor_District_Sum']=np.where(mega_data['district_id']==dist, sum_feat, mega_data['Risk_Factor_District_Sum'])\n",
    "    mega_data['Risk_Factor_District_Average']=np.where(mega_data['district_id']==dist, avg_feat, mega_data['Risk_Factor_District_Average'])"
   ]
  },
  {
   "cell_type": "markdown",
   "metadata": {},
   "source": [
    "### Municipal Level"
   ]
  },
  {
   "cell_type": "code",
   "execution_count": 12,
   "metadata": {},
   "outputs": [],
   "source": [
    "municipal_list=mega_data.vdcmun_id.unique().tolist()\n",
    "\n",
    "mega_data['Risk_Factor_Municipal_Sum']=0\n",
    "mega_data['Risk_Factor_Municipal_Average']=0\n",
    "\n",
    "for mun in municipal_list:\n",
    "    temp_new = pd.DataFrame()\n",
    "    temp_new = mega_data.loc[mega_data.vdcmun_id == mun, :]\n",
    "    temp_new = temp_new.reset_index()\n",
    "    temp_new.drop('index', axis=1, inplace=True)\n",
    "        \n",
    "    sum_feat=temp_new['Risk_Factor'].sum()\n",
    "    avg_feat=sum_feat/len(temp_new)\n",
    "   \n",
    "    mega_data['Risk_Factor_Municipal_Sum']=np.where(mega_data['vdcmun_id']==mun, sum_feat, mega_data['Risk_Factor_Municipal_Sum'])\n",
    "    mega_data['Risk_Factor_Municipal_Average']=np.where(mega_data['vdcmun_id']==mun, avg_feat, mega_data['Risk_Factor_Municipal_Average'])"
   ]
  },
  {
   "cell_type": "markdown",
   "metadata": {},
   "source": [
    "### Ward Level"
   ]
  },
  {
   "cell_type": "code",
   "execution_count": 13,
   "metadata": {},
   "outputs": [],
   "source": [
    "ward_list=mega_data.ward_id.unique().tolist()\n",
    "\n",
    "mega_data['Risk_Factor_Ward_Sum']=0\n",
    "mega_data['Risk_Factor_Ward_Average']=0\n",
    "\n",
    "for ward in ward_list:\n",
    "    temp_new = pd.DataFrame()\n",
    "    temp_new = mega_data.loc[mega_data.ward_id == ward, :]\n",
    "    temp_new = temp_new.reset_index()\n",
    "    temp_new.drop('index', axis=1, inplace=True)\n",
    "        \n",
    "    sum_feat=temp_new['Risk_Factor'].sum()\n",
    "    avg_feat=sum_feat/len(temp_new)\n",
    "   \n",
    "    mega_data['Risk_Factor_Ward_Sum']=np.where(mega_data['ward_id']==mun, sum_feat, mega_data['Risk_Factor_Ward_Sum'])\n",
    "    mega_data['Risk_Factor_Ward_Average']=np.where(mega_data['ward_id']==mun, avg_feat, mega_data['Risk_Factor_Ward_Average'])"
   ]
  },
  {
   "cell_type": "code",
   "execution_count": 14,
   "metadata": {},
   "outputs": [],
   "source": [
    "#Floor Difference\n",
    "mega_data['Difference_In_Floors'] = mega_data['count_floors_pre_eq']-mega_data['count_floors_post_eq']"
   ]
  },
  {
   "cell_type": "code",
   "execution_count": 15,
   "metadata": {},
   "outputs": [],
   "source": [
    "#Height Difference\n",
    "mega_data['Difference_In_Height'] =mega_data['height_ft_pre_eq']-mega_data['height_ft_post_eq']"
   ]
  },
  {
   "cell_type": "code",
   "execution_count": 16,
   "metadata": {},
   "outputs": [],
   "source": [
    "#Normal Label Encoding\n",
    "grade_enc = {'Grade 1':1,'Grade 2':2,'Grade 3':3,'Grade 4':4,'Grade 5':5}\n",
    "labels_norm=mega_data['damage_grade'].map(grade_enc)\n",
    "\n",
    "# On-hot Encoding\n",
    "from sklearn.preprocessing import LabelBinarizer\n",
    "encoder = LabelBinarizer()\n",
    "labels_one_hot= encoder.fit_transform(labels_norm)"
   ]
  },
  {
   "cell_type": "code",
   "execution_count": 17,
   "metadata": {},
   "outputs": [],
   "source": [
    "### Removing Unwanted Columns\n",
    "mega_data = mega_data.drop(columns=['building_id','damage_grade'])"
   ]
  },
  {
   "cell_type": "code",
   "execution_count": 20,
   "metadata": {},
   "outputs": [],
   "source": [
    "## Transforming All the Columns having Object Type to One Hot Encoding\n",
    "for col in mega_data.columns:\n",
    "    if mega_data[col].dtype == 'object':\n",
    "        dummy=pd.get_dummies(mega_data[col],prefix=col)\n",
    "        mega_data=pd.concat([mega_data, dummy], axis=1)\n",
    "        mega_data.drop(col, axis=1,inplace=True)"
   ]
  },
  {
   "cell_type": "code",
   "execution_count": 21,
   "metadata": {},
   "outputs": [],
   "source": [
    "#Removing ID Columns\n",
    "mega_data.drop(['district_id','vdcmun_id','ward_id'], axis=1, inplace=True)"
   ]
  },
  {
   "cell_type": "markdown",
   "metadata": {},
   "source": [
    "### Non-Parametric Models"
   ]
  },
  {
   "cell_type": "code",
   "execution_count": 22,
   "metadata": {},
   "outputs": [],
   "source": [
    "from sklearn.model_selection import train_test_split\n",
    "train_features, test_features, train_labels, test_labels = train_test_split(mega_data, labels_norm, test_size = 0.3, random_state =9, stratify=labels_norm)"
   ]
  },
  {
   "cell_type": "code",
   "execution_count": 23,
   "metadata": {},
   "outputs": [],
   "source": [
    "from sklearn.preprocessing import StandardScaler  \n",
    "scaler = StandardScaler()\n",
    "scaler.fit(train_features)  \n",
    "train_features = scaler.transform(train_features)  \n",
    "test_features = scaler.transform(test_features)"
   ]
  },
  {
   "cell_type": "code",
   "execution_count": 24,
   "metadata": {},
   "outputs": [
    {
     "name": "stdout",
     "output_type": "stream",
     "text": [
      "0.7150726274079429\n",
      "[[14960  1692  1659    85     0]\n",
      " [  222  8294 12690  4319     0]\n",
      " [    4  4403 17719 14560     1]\n",
      " [    2  1077 10031 34561     2]\n",
      " [    2    45   294  2914 59993]]\n",
      "             precision    recall  f1-score   support\n",
      "\n",
      "          1       0.98      0.81      0.89     18396\n",
      "          2       0.53      0.32      0.40     25525\n",
      "          3       0.42      0.48      0.45     36687\n",
      "          4       0.61      0.76      0.68     45673\n",
      "          5       1.00      0.95      0.97     63248\n",
      "\n",
      "avg / total       0.73      0.72      0.72    189529\n",
      "\n"
     ]
    }
   ],
   "source": [
    "model=RandomForestClassifier(random_state=22, n_estimators=200, max_depth=10)\n",
    "model.fit(train_features,train_labels)\n",
    "predictions=model.predict(test_features)\n",
    "print(accuracy_score(test_labels, predictions))\n",
    "print(confusion_matrix(test_labels, predictions))\n",
    "print(classification_report(test_labels, predictions))"
   ]
  },
  {
   "cell_type": "code",
   "execution_count": 25,
   "metadata": {},
   "outputs": [],
   "source": [
    "import plotly.plotly as py\n",
    "import plotly.graph_objs as go\n",
    "import plotly.figure_factory as ff\n",
    "import plotly\n",
    "plotly.tools.set_credentials_file(username='c.sabyasachi99', api_key='y5FSl1jIheriCgKbK3Ff')"
   ]
  },
  {
   "cell_type": "code",
   "execution_count": 26,
   "metadata": {},
   "outputs": [
    {
     "name": "stdout",
     "output_type": "stream",
     "text": [
      "Feature ranking:\n",
      "('count_floors_post_eq', 0.1753418787110088)\n",
      "('Difference_In_Height', 0.11526705057195413)\n",
      "('height_ft_post_eq', 0.11365658356043834)\n",
      "('Difference_In_Floors', 0.09398132196024837)\n",
      "('condition_post_eq_Not damaged', 0.08875646632790136)\n",
      "('area_assesed_Building removed', 0.05829927809006302)\n",
      "('condition_post_eq_Damaged-Not used', 0.05149426847597316)\n",
      "('area_assesed_Both', 0.04784745457808769)\n",
      "('condition_post_eq_Damaged-Rubble unclear', 0.04505994150511929)\n",
      "('condition_post_eq_Damaged-Used in risk', 0.02801818053275085)\n",
      "('condition_post_eq_Damaged-Repaired and used', 0.02595659768804017)\n",
      "('condition_post_eq_Damaged-Rubble clear', 0.021095719602901453)\n",
      "('has_repair_started', 0.018703807205346076)\n",
      "('foundation_type_Mud mortar-Stone/Brick', 0.011888155945697605)\n",
      "('Risk_Factor_District_Sum', 0.010631711968426048)\n",
      "('Risk_Factor_District_Average', 0.008845944219010143)\n",
      "('condition_post_eq_Damaged-Rubble Clear-New building built', 0.00863047770048736)\n",
      "('has_superstructure_mud_mortar_stone', 0.007868171312470749)\n",
      "('ground_floor_type_RC', 0.007689991219544231)\n",
      "('area_assesed_Exterior', 0.005838433408332059)\n",
      "('roof_type_RCC/RB/RBC', 0.005302991128344319)\n",
      "('other_floor_type_TImber/Bamboo-Mud', 0.004915815776660046)\n",
      "('foundation_type_RC', 0.004728617177399065)\n",
      "('age_building', 0.0038339758224400513)\n",
      "('count_floors_pre_eq', 0.003562194037662538)\n",
      "('has_superstructure_cement_mortar_brick', 0.0034435328441618806)\n",
      "('height_ft_pre_eq', 0.0034131128864274872)\n",
      "('ground_floor_type_Mud', 0.0028364029528883845)\n",
      "('Risk_Factor_Municipal_Sum', 0.0028262564174070326)\n",
      "('other_floor_type_Not applicable', 0.00259069071251246)\n",
      "('other_floor_type_RCC/RB/RBC', 0.0018685437874466993)\n",
      "('area_assesed_Not able to inspect', 0.0018102150338836045)\n",
      "('Risk_Factor_Municipal_Average', 0.0015838707472306606)\n",
      "('foundation_type_Bamboo/Timber', 0.0014084963366591827)\n",
      "('has_superstructure_mud_mortar_brick', 0.001321801303288387)\n",
      "('has_superstructure_adobe_mud', 0.0009760388508273239)\n",
      "('plinth_area_sq_ft', 0.0008791861815869549)\n",
      "('count_families', 0.0008102347132192474)\n",
      "('has_superstructure_rc_engineered', 0.0007672600718835279)\n",
      "('has_superstructure_rc_non_engineered', 0.0006782490697384969)\n",
      "('roof_type_Bamboo/Timber-Light roof', 0.0005247056644118424)\n",
      "('position_Not attached', 0.00039185395552259627)\n",
      "('other_floor_type_Timber-Planck', 0.0003784246079675808)\n",
      "('foundation_type_Cement-Stone/Brick', 0.0003761347519343354)\n",
      "('has_superstructure_timber', 0.0003281272785542493)\n",
      "('Risk_Factor', 0.00031031323380517335)\n",
      "('ground_floor_type_Brick/Stone', 0.00028412019136626524)\n",
      "('has_geotechnical_risk', 0.00025363266624276154)\n",
      "('has_geotechnical_risk_land_settlement', 0.00019652979094369146)\n",
      "('roof_type_Bamboo/Timber-Heavy roof', 0.0001793880750497637)\n",
      "('has_superstructure_stone_flag', 0.00016211972305578193)\n",
      "('has_geotechnical_risk_fault_crack', 0.00015513706215078313)\n",
      "('land_surface_condition_Flat', 0.00013658405877119324)\n",
      "('position_Attached-2 side', 0.00013277691106814755)\n",
      "('legal_ownership_status_Public', 0.00012680845256030575)\n",
      "('has_secondary_use', 0.00011853581076893485)\n",
      "('position_Attached-1 side', 0.00011804169224119804)\n",
      "('has_superstructure_bamboo', 0.0001163132313090684)\n",
      "('ground_floor_type_Timber', 0.00010815952643378505)\n",
      "('has_secondary_use_hotel', 0.00010203365635648586)\n",
      "('has_secondary_use_agriculture', 8.870762993217964e-05)\n",
      "('has_superstructure_cement_mortar_stone', 8.630799695121861e-05)\n",
      "('position_Attached-3 side', 8.414973526661773e-05)\n",
      "('land_surface_condition_Moderate slope', 7.997167654209639e-05)\n",
      "('has_geotechnical_risk_landslide', 6.905704638793841e-05)\n",
      "('legal_ownership_status_Private', 6.650603609061123e-05)\n",
      "('area_assesed_Interior', 5.966114309402632e-05)\n",
      "('has_superstructure_other', 5.615667856518431e-05)\n",
      "('has_secondary_use_rental', 5.229169895837128e-05)\n",
      "('foundation_type_Other', 4.9746641557598104e-05)\n",
      "('has_geotechnical_risk_rock_fall', 4.939725144788929e-05)\n",
      "('has_secondary_use_other', 4.3586529907580156e-05)\n",
      "('land_surface_condition_Steep slope', 3.851999962801034e-05)\n",
      "('plan_configuration_Square', 3.383291845577548e-05)\n",
      "('plan_configuration_Rectangular', 3.291231133237566e-05)\n",
      "('legal_ownership_status_Other', 3.2093732240492306e-05)\n",
      "('has_geotechnical_risk_flood', 2.885721654866728e-05)\n",
      "('legal_ownership_status_Institutional', 2.7158374593886488e-05)\n",
      "('condition_post_eq_Covered by landslide', 2.0901216720727354e-05)\n",
      "('plan_configuration_L-shape', 1.950081458020459e-05)\n",
      "('has_geotechnical_risk_liquefaction', 8.725096487119588e-06)\n",
      "('plan_configuration_T-shape', 7.538806026072847e-06)\n",
      "('ground_floor_type_Other', 6.27404284462494e-06)\n",
      "('plan_configuration_Multi-projected', 5.577923249824778e-06)\n",
      "('has_secondary_use_industry', 4.399912606396363e-06)\n",
      "('has_secondary_use_institution', 3.9870623437647155e-06)\n",
      "('has_secondary_use_school', 3.0173295909684025e-06)\n",
      "('has_geotechnical_risk_other', 2.649638648504361e-06)\n",
      "('plan_configuration_Others', 2.400905316294222e-06)\n",
      "('plan_configuration_H-shape', 1.7464973345794413e-06)\n",
      "('plan_configuration_U-shape', 1.6860660390275747e-06)\n",
      "('has_secondary_use_health_post', 9.396976740264812e-07)\n",
      "('plan_configuration_Building with Central Courtyard', 8.441473288613448e-07)\n",
      "('plan_configuration_E-shape', 8.127279407297053e-07)\n",
      "('has_secondary_use_gov_office', 8.044897172431861e-07)\n",
      "('has_secondary_use_use_police', 6.182320682619649e-07)\n",
      "('Risk_Factor_Ward_Sum', 0.0)\n",
      "('Risk_Factor_Ward_Average', 0.0)\n"
     ]
    }
   ],
   "source": [
    "features=mega_data.columns\n",
    "importances = model.feature_importances_\n",
    "std = np.std([model.feature_importances_ for tree in model.estimators_],axis=0)\n",
    "indices = np.argsort(importances)[::-1]\n",
    "print(\"Feature ranking:\")\n",
    "for f in range(train_features.shape[1]):\n",
    "    print( (features[indices[f]], importances[indices[f]]))"
   ]
  },
  {
   "cell_type": "code",
   "execution_count": 27,
   "metadata": {},
   "outputs": [
    {
     "data": {
      "text/html": [
       "<iframe id=\"igraph\" scrolling=\"no\" style=\"border:none;\" seamless=\"seamless\" src=\"https://plot.ly/~c.sabyasachi99/42.embed\" height=\"525px\" width=\"100%\"></iframe>"
      ],
      "text/plain": [
       "<plotly.tools.PlotlyDisplay object>"
      ]
     },
     "execution_count": 27,
     "metadata": {},
     "output_type": "execute_result"
    }
   ],
   "source": [
    "trace = go.Bar(x=features, y=importances[indices],\n",
    "               marker=dict(color='red'),\n",
    "               error_y=dict(visible=True, arrayminus=std[indices]),\n",
    "               opacity=0.5)\n",
    "\n",
    "layout = go.Layout(title=\"Feature importances\")\n",
    "fig = go.Figure(data=[trace], layout=layout)\n",
    "py.iplot(fig)"
   ]
  },
  {
   "cell_type": "raw",
   "metadata": {},
   "source": [
    "import xgboost\n",
    "from xgboost import XGBClassifier\n",
    "modelxg=XGBClassifier(max_depth=10, learning_rate=0.01, n_estimators=200, objective='multi:softmax', booster='gbtree')\n",
    "modelxg.fit(train_features,train_labels)\n",
    "predictions=modelxg.predict(test_features)\n",
    "print(accuracy_score(test_labels, predictions))\n",
    "print(confusion_matrix(test_labels, predictions))\n",
    "print(classification_report(test_labels, predictions))"
   ]
  },
  {
   "cell_type": "markdown",
   "metadata": {},
   "source": [
    "## Convolutional Neural Network"
   ]
  },
  {
   "cell_type": "code",
   "execution_count": 28,
   "metadata": {},
   "outputs": [],
   "source": [
    "from sklearn.model_selection import train_test_split\n",
    "train_features, test_features, train_labels, test_labels = train_test_split(mega_data, labels_one_hot, test_size = 0.3, random_state =9, stratify=labels_one_hot)"
   ]
  },
  {
   "cell_type": "code",
   "execution_count": 29,
   "metadata": {},
   "outputs": [
    {
     "data": {
      "text/plain": [
       "array([[0, 1, 0, 0, 0],\n",
       "       [0, 0, 0, 1, 0],\n",
       "       [0, 1, 0, 0, 0],\n",
       "       ...,\n",
       "       [0, 0, 1, 0, 0],\n",
       "       [0, 0, 0, 1, 0],\n",
       "       [0, 0, 1, 0, 0]])"
      ]
     },
     "execution_count": 29,
     "metadata": {},
     "output_type": "execute_result"
    }
   ],
   "source": [
    "test_labels"
   ]
  },
  {
   "cell_type": "code",
   "execution_count": 30,
   "metadata": {},
   "outputs": [],
   "source": [
    "from sklearn.preprocessing import StandardScaler  \n",
    "scaler = StandardScaler()\n",
    "scaler.fit(train_features)  \n",
    "train_features = scaler.transform(train_features)  \n",
    "test_features = scaler.transform(test_features)  "
   ]
  },
  {
   "cell_type": "code",
   "execution_count": 31,
   "metadata": {},
   "outputs": [],
   "source": [
    "train_features=train_features.reshape(train_features.shape[0], train_features.shape[1], 1)\n",
    "test_features=test_features.reshape(test_features.shape[0], test_features.shape[1], 1)"
   ]
  },
  {
   "cell_type": "code",
   "execution_count": 32,
   "metadata": {},
   "outputs": [
    {
     "name": "stdout",
     "output_type": "stream",
     "text": [
      "(442232, 98, 1)\n",
      "(189529, 98, 1)\n"
     ]
    }
   ],
   "source": [
    "print(train_features.shape)\n",
    "print(test_features.shape)"
   ]
  },
  {
   "cell_type": "code",
   "execution_count": 33,
   "metadata": {},
   "outputs": [
    {
     "name": "stdout",
     "output_type": "stream",
     "text": [
      "(442232, 5)\n",
      "(189529, 5)\n"
     ]
    }
   ],
   "source": [
    "print(train_labels.shape)\n",
    "print(test_labels.shape)"
   ]
  },
  {
   "cell_type": "code",
   "execution_count": 34,
   "metadata": {},
   "outputs": [],
   "source": [
    "import livelossplot\n",
    "from livelossplot import PlotLossesKeras\n",
    "plot_losses = livelossplot.PlotLossesKeras()"
   ]
  },
  {
   "cell_type": "code",
   "execution_count": 35,
   "metadata": {},
   "outputs": [],
   "source": [
    "def createModel():\n",
    "    model = Sequential()\n",
    "    model.add(Conv1D(128, 10, input_shape=(98,1,), activation='relu'))\n",
    "    model.add(Conv1D(64, 2, activation='relu'))\n",
    "    model.add(Flatten())\n",
    "    model.add(Dropout(0.5))\n",
    "    model.add(Dense(64, activation='relu'))\n",
    "    model.add(Dropout(0.5))  \n",
    "    model.add(Dense(32, activation='relu'))\n",
    "    model.add(Dense(5, activation='softmax'))\n",
    "    \n",
    "    #stochastic gradient descent\n",
    "    sgd = SGD(lr=0.001, decay=1e-6, momentum=0.9, nesterov=True)\n",
    "    model.compile(loss='categorical_crossentropy', optimizer=sgd, metrics=['accuracy'])\n",
    "    return model"
   ]
  },
  {
   "cell_type": "code",
   "execution_count": 36,
   "metadata": {},
   "outputs": [
    {
     "data": {
      "image/png": "[encoded data removed]",
      "text/plain": [
       "<Figure size 864x576 with 2 Axes>"
      ]
     },
     "metadata": {},
     "output_type": "display_data"
    },
    {
     "name": "stdout",
     "output_type": "stream",
     "text": [
      "Log-loss (cost function):\n",
      "training   (min:    0.613, max:    0.676, cur:    0.613)\n",
      "validation (min:    0.610, max:    0.630, cur:    0.611)\n",
      "\n",
      "Accuracy:\n",
      "training   (min:    0.696, max:    0.722, cur:    0.722)\n",
      "validation (min:    0.709, max:    0.726, cur:    0.725)\n"
     ]
    }
   ],
   "source": [
    "model = createModel()\n",
    "history=model.fit(train_features,train_labels, epochs=20, batch_size=10,validation_data=(test_features,test_labels),callbacks=[plot_losses])"
   ]
  },
  {
   "cell_type": "code",
   "execution_count": 37,
   "metadata": {},
   "outputs": [
    {
     "name": "stdout",
     "output_type": "stream",
     "text": [
      "189529/189529 [==============================] - 9s 48us/step\n",
      "\n",
      "acc: 72.45%\n"
     ]
    }
   ],
   "source": [
    "scores = model.evaluate(test_features, test_labels)\n",
    "print(\"\\n%s: %.2f%%\" % (model.metrics_names[1], scores[1]*100))"
   ]
  },
  {
   "cell_type": "markdown",
   "metadata": {},
   "source": [
    "## Artificial Neural Network"
   ]
  },
  {
   "cell_type": "code",
   "execution_count": 59,
   "metadata": {},
   "outputs": [],
   "source": [
    "from sklearn.model_selection import train_test_split\n",
    "train_features, test_features, train_labels, test_labels = train_test_split(mega_data, labels_one_hot, test_size = 0.3, random_state =9, stratify=labels_one_hot)"
   ]
  },
  {
   "cell_type": "code",
   "execution_count": 60,
   "metadata": {},
   "outputs": [],
   "source": [
    "from sklearn.preprocessing import StandardScaler  \n",
    "scaler = StandardScaler()\n",
    "scaler.fit(train_features)  \n",
    "train_features = scaler.transform(train_features)  \n",
    "test_features = scaler.transform(test_features) "
   ]
  },
  {
   "cell_type": "code",
   "execution_count": 61,
   "metadata": {},
   "outputs": [
    {
     "name": "stdout",
     "output_type": "stream",
     "text": [
      "(442232, 98)\n",
      "(189529, 98)\n",
      "(442232, 5)\n",
      "(189529, 5)\n"
     ]
    }
   ],
   "source": [
    "print(train_features.shape)\n",
    "print(test_features.shape)\n",
    "print(train_labels.shape)\n",
    "print(test_labels.shape)"
   ]
  },
  {
   "cell_type": "code",
   "execution_count": 62,
   "metadata": {},
   "outputs": [],
   "source": [
    "import livelossplot\n",
    "from livelossplot import PlotLossesKeras\n",
    "plot_losses = livelossplot.PlotLossesKeras()"
   ]
  },
  {
   "cell_type": "code",
   "execution_count": 65,
   "metadata": {},
   "outputs": [],
   "source": [
    "def create_network():\n",
    "    model = Sequential()\n",
    "    model.add(Dense(60, input_shape=(98,), activation='relu'))\n",
    "    model.add(Dense(30, activation='relu'))\n",
    "    model.add(Dense(30, activation='relu'))\n",
    "    model.add(Dense(20, activation='relu'))\n",
    "    model.add(Dense(10, activation='relu'))\n",
    "    model.add(Dense(5, activation='softmax'))\n",
    "        \n",
    "    #stochastic gradient descent\n",
    "    sgd = SGD(lr=0.001, decay=1e-6, momentum=0.9, nesterov=True)\n",
    "    model.compile(loss='categorical_crossentropy', optimizer=sgd, metrics=['accuracy'])\n",
    "    return model"
   ]
  },
  {
   "cell_type": "code",
   "execution_count": 66,
   "metadata": {},
   "outputs": [
    {
     "data": {
      "image/png": "[encoded data removed]",
      "text/plain": [
       "<Figure size 864x576 with 2 Axes>"
      ]
     },
     "metadata": {},
     "output_type": "display_data"
    },
    {
     "name": "stdout",
     "output_type": "stream",
     "text": [
      "Log-loss (cost function):\n",
      "training   (min:    0.590, max:    0.845, cur:    0.590)\n",
      "validation (min:    0.610, max:    0.665, cur:    0.610)\n",
      "\n",
      "Accuracy:\n",
      "training   (min:    0.633, max:    0.734, cur:    0.734)\n",
      "validation (min:    0.703, max:    0.726, cur:    0.726)\n",
      "189529/189529 [==============================] - 5s 27us/step\n",
      "\n",
      "acc: 72.62%\n"
     ]
    }
   ],
   "source": [
    "model3 = create_network()\n",
    "model3.fit(train_features,train_labels, epochs=100, batch_size=100,validation_data=(test_features,test_labels), callbacks=[plot_losses])\n",
    "scores = model3.evaluate(test_features, test_labels)\n",
    "print(\"\\n%s: %.2f%%\" % (model3.metrics_names[1], scores[1]*100))"
   ]
  },
  {
   "cell_type": "code",
   "execution_count": null,
   "metadata": {},
   "outputs": [],
   "source": []
  }
 ],
 "metadata": {
  "kernelspec": {
   "display_name": "Python 3",
   "language": "python",
   "name": "python3"
  },
  "language_info": {
   "codemirror_mode": {
    "name": "ipython",
    "version": 3
   },
   "file_extension": ".py",
   "mimetype": "text/x-python",
   "name": "python",
   "nbconvert_exporter": "python",
   "pygments_lexer": "ipython3",
   "version": "3.5.5"
  }
 },
 "nbformat": 4,
 "nbformat_minor": 2
}
